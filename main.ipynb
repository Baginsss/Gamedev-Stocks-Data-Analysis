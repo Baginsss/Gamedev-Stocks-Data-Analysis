{
 "cells": [
  {
   "cell_type": "markdown",
   "id": "6004ace4",
   "metadata": {},
   "source": [
    "# Polish GameDev Stocks - Data Analysis Project"
   ]
  },
  {
   "cell_type": "markdown",
   "id": "5979314f",
   "metadata": {},
   "source": [
    "Tu napisać wstęp i cele projektu"
   ]
  },
  {
   "cell_type": "markdown",
   "id": "fb6b0fbf",
   "metadata": {},
   "source": [
    "### 1. Preparation of the environment"
   ]
  },
  {
   "cell_type": "code",
   "execution_count": 6,
   "id": "3acf2fa2",
   "metadata": {},
   "outputs": [],
   "source": [
    "import numpy as np\n",
    "import pandas as pd\n",
    "import matplotlib\n",
    "import seaborn as sns\n",
    "import scipy as sp\n",
    "import cvxpy as cp\n",
    "import statsmodels.api as sm"
   ]
  },
  {
   "cell_type": "code",
   "execution_count": null,
   "id": "d4e3a6c8",
   "metadata": {},
   "outputs": [],
   "source": []
  },
  {
   "cell_type": "markdown",
   "id": "89eaf207",
   "metadata": {},
   "source": [
    "### 2. Data Exploration"
   ]
  },
  {
   "cell_type": "markdown",
   "id": "79d50c23",
   "metadata": {},
   "source": [
    "### 3. Rolling correlation between CD Projekt Red vs other GameDev companies"
   ]
  },
  {
   "cell_type": "markdown",
   "id": "cdd9feca",
   "metadata": {},
   "source": [
    "### 4. Optimisation of \"Wig-Gry\" index weights"
   ]
  },
  {
   "cell_type": "markdown",
   "id": "aae5345d",
   "metadata": {},
   "source": [
    "### 5. Analysis of events"
   ]
  },
  {
   "cell_type": "markdown",
   "id": "47118b24",
   "metadata": {},
   "source": [
    "### 6. Conclusions"
   ]
  },
  {
   "cell_type": "markdown",
   "id": "325795e2",
   "metadata": {},
   "source": [
    "### *7.Possible extension\n",
    "\n",
    "- Sentiment analysis\n",
    "- Comparison of trading volumes\n",
    "- Event-driven testing strategy"
   ]
  }
 ],
 "metadata": {
  "kernelspec": {
   "display_name": "Python 3",
   "language": "python",
   "name": "python3"
  },
  "language_info": {
   "codemirror_mode": {
    "name": "ipython",
    "version": 3
   },
   "file_extension": ".py",
   "mimetype": "text/x-python",
   "name": "python",
   "nbconvert_exporter": "python",
   "pygments_lexer": "ipython3",
   "version": "3.13.3"
  }
 },
 "nbformat": 4,
 "nbformat_minor": 5
}
